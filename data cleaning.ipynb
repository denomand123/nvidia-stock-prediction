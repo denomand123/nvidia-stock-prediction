{
 "cells": [
  {
   "cell_type": "code",
   "execution_count": 4,
   "id": "c23ee5e4-76d3-4675-a59e-0438588d1e1c",
   "metadata": {},
   "outputs": [
    {
     "data": {
      "text/html": [
       "<div>\n",
       "<style scoped>\n",
       "    .dataframe tbody tr th:only-of-type {\n",
       "        vertical-align: middle;\n",
       "    }\n",
       "\n",
       "    .dataframe tbody tr th {\n",
       "        vertical-align: top;\n",
       "    }\n",
       "\n",
       "    .dataframe thead th {\n",
       "        text-align: right;\n",
       "    }\n",
       "</style>\n",
       "<table border=\"1\" class=\"dataframe\">\n",
       "  <thead>\n",
       "    <tr style=\"text-align: right;\">\n",
       "      <th></th>\n",
       "      <th>Date</th>\n",
       "      <th>Open</th>\n",
       "      <th>High</th>\n",
       "      <th>Low</th>\n",
       "      <th>Close</th>\n",
       "      <th>Adj Close</th>\n",
       "      <th>Volume</th>\n",
       "    </tr>\n",
       "  </thead>\n",
       "  <tbody>\n",
       "    <tr>\n",
       "      <th>0</th>\n",
       "      <td>1999-01-22</td>\n",
       "      <td>0.043750</td>\n",
       "      <td>0.048828</td>\n",
       "      <td>0.038802</td>\n",
       "      <td>0.041016</td>\n",
       "      <td>0.037621</td>\n",
       "      <td>2714688000</td>\n",
       "    </tr>\n",
       "    <tr>\n",
       "      <th>1</th>\n",
       "      <td>1999-01-25</td>\n",
       "      <td>0.044271</td>\n",
       "      <td>0.045833</td>\n",
       "      <td>0.041016</td>\n",
       "      <td>0.045313</td>\n",
       "      <td>0.041562</td>\n",
       "      <td>510480000</td>\n",
       "    </tr>\n",
       "    <tr>\n",
       "      <th>2</th>\n",
       "      <td>1999-01-26</td>\n",
       "      <td>0.045833</td>\n",
       "      <td>0.046745</td>\n",
       "      <td>0.041146</td>\n",
       "      <td>0.041797</td>\n",
       "      <td>0.038337</td>\n",
       "      <td>343200000</td>\n",
       "    </tr>\n",
       "    <tr>\n",
       "      <th>3</th>\n",
       "      <td>1999-01-27</td>\n",
       "      <td>0.041927</td>\n",
       "      <td>0.042969</td>\n",
       "      <td>0.039583</td>\n",
       "      <td>0.041667</td>\n",
       "      <td>0.038218</td>\n",
       "      <td>244368000</td>\n",
       "    </tr>\n",
       "    <tr>\n",
       "      <th>4</th>\n",
       "      <td>1999-01-28</td>\n",
       "      <td>0.041667</td>\n",
       "      <td>0.041927</td>\n",
       "      <td>0.041276</td>\n",
       "      <td>0.041536</td>\n",
       "      <td>0.038098</td>\n",
       "      <td>227520000</td>\n",
       "    </tr>\n",
       "  </tbody>\n",
       "</table>\n",
       "</div>"
      ],
      "text/plain": [
       "         Date      Open      High       Low     Close  Adj Close      Volume\n",
       "0  1999-01-22  0.043750  0.048828  0.038802  0.041016   0.037621  2714688000\n",
       "1  1999-01-25  0.044271  0.045833  0.041016  0.045313   0.041562   510480000\n",
       "2  1999-01-26  0.045833  0.046745  0.041146  0.041797   0.038337   343200000\n",
       "3  1999-01-27  0.041927  0.042969  0.039583  0.041667   0.038218   244368000\n",
       "4  1999-01-28  0.041667  0.041927  0.041276  0.041536   0.038098   227520000"
      ]
     },
     "execution_count": 4,
     "metadata": {},
     "output_type": "execute_result"
    }
   ],
   "source": [
    "# Import necessary libraries\n",
    "import pandas as pd\n",
    "\n",
    "# Load the dataset\n",
    "df = pd.read_csv(r\"C:\\Users\\user\\Desktop\\NVIDIA Stock predictive analysis\\NVDA data.csv\")\n",
    "\n",
    "# Display the first few rows to verify\n",
    "df.head()\n"
   ]
  },
  {
   "cell_type": "code",
   "execution_count": 5,
   "id": "1d5e2e89-9a27-4e0a-8b6f-a5419848ecc9",
   "metadata": {},
   "outputs": [
    {
     "name": "stdout",
     "output_type": "stream",
     "text": [
      "Date         0\n",
      "Open         0\n",
      "High         0\n",
      "Low          0\n",
      "Close        0\n",
      "Adj Close    0\n",
      "Volume       0\n",
      "dtype: int64\n",
      "Date          object\n",
      "Open         float64\n",
      "High         float64\n",
      "Low          float64\n",
      "Close        float64\n",
      "Adj Close    float64\n",
      "Volume         int64\n",
      "dtype: object\n",
      "              Open         High          Low        Close    Adj Close  \\\n",
      "count  6393.000000  6393.000000  6393.000000  6393.000000  6393.000000   \n",
      "mean      5.691514     5.795385     5.583315     5.696717     5.670234   \n",
      "std      14.150863    14.406149    13.878611    14.172098    14.174381   \n",
      "min       0.034896     0.035547     0.033333     0.034115     0.031291   \n",
      "25%       0.276917     0.285500     0.268750     0.275750     0.252925   \n",
      "50%       0.455000     0.463000     0.447500     0.455333     0.424676   \n",
      "75%       4.125000     4.167750     4.056500     4.118500     4.077091   \n",
      "max     132.990005   136.330002   130.690002   135.580002   135.580002   \n",
      "\n",
      "             Volume  \n",
      "count  6.393000e+03  \n",
      "mean   6.073352e+08  \n",
      "std    4.328103e+08  \n",
      "min    1.968000e+07  \n",
      "25%    3.477010e+08  \n",
      "50%    5.093040e+08  \n",
      "75%    7.371920e+08  \n",
      "max    9.230856e+09  \n"
     ]
    }
   ],
   "source": [
    "# Check for missing values\n",
    "print(df.isnull().sum())\n",
    "\n",
    "# Check data types\n",
    "print(df.dtypes)\n",
    "\n",
    "# Statistical summary\n",
    "print(df.describe())\n"
   ]
  },
  {
   "cell_type": "code",
   "execution_count": 7,
   "id": "0a2e6dac-8c8d-4c8d-805d-bcfc1c5a9bb1",
   "metadata": {},
   "outputs": [
    {
     "name": "stdout",
     "output_type": "stream",
     "text": [
      "        Date      Open      High       Low     Close  Adj Close      Volume\n",
      "0 1999-01-22  0.043750  0.048828  0.038802  0.041016   0.037621  2714688000\n",
      "1 1999-01-25  0.044271  0.045833  0.041016  0.045313   0.041562   510480000\n",
      "2 1999-01-26  0.045833  0.046745  0.041146  0.041797   0.038337   343200000\n",
      "3 1999-01-27  0.041927  0.042969  0.039583  0.041667   0.038218   244368000\n",
      "4 1999-01-28  0.041667  0.041927  0.041276  0.041536   0.038098   227520000\n"
     ]
    }
   ],
   "source": [
    "# Convert the 'Date' column to datetime, automatically detecting the format\n",
    "df['Date'] = pd.to_datetime(df['Date'], errors='coerce')\n",
    "\n",
    "# Alternatively, if you want to explicitly define the format (for 'YYYY-MM-DD')\n",
    "df['Date'] = pd.to_datetime(df['Date'], format='%Y-%m-%d', errors='coerce')\n",
    "\n",
    "# Check if conversion worked\n",
    "print(df.head())\n"
   ]
  },
  {
   "cell_type": "code",
   "execution_count": 8,
   "id": "f15df7d2-1ad3-4190-978e-ccc04c321b4f",
   "metadata": {},
   "outputs": [
    {
     "name": "stdout",
     "output_type": "stream",
     "text": [
      "Date         datetime64[ns]\n",
      "Open                float64\n",
      "High                float64\n",
      "Low                 float64\n",
      "Close               float64\n",
      "Adj Close           float64\n",
      "Volume                int64\n",
      "dtype: object\n"
     ]
    }
   ],
   "source": [
    "print(df.dtypes)"
   ]
  },
  {
   "cell_type": "code",
   "execution_count": 9,
   "id": "b7574bc4-03eb-44b5-a99a-761b48ad47d2",
   "metadata": {},
   "outputs": [
    {
     "name": "stdout",
     "output_type": "stream",
     "text": [
      "        Date      Open      High       Low     Close  Adj Close      Volume  \\\n",
      "0 1999-01-22  0.043750  0.048828  0.038802  0.041016   0.037621  2714688000   \n",
      "1 1999-01-25  0.044271  0.045833  0.041016  0.045313   0.041562   510480000   \n",
      "2 1999-01-26  0.045833  0.046745  0.041146  0.041797   0.038337   343200000   \n",
      "3 1999-01-27  0.041927  0.042969  0.039583  0.041667   0.038218   244368000   \n",
      "4 1999-01-28  0.041667  0.041927  0.041276  0.041536   0.038098   227520000   \n",
      "\n",
      "   7_day_MA  30_day_MA  Daily_Return  Volatility  \n",
      "0       NaN        NaN           NaN         NaN  \n",
      "1       NaN        NaN      0.104764         NaN  \n",
      "2       NaN        NaN     -0.077594         NaN  \n",
      "3       NaN        NaN     -0.003110         NaN  \n",
      "4       NaN        NaN     -0.003144         NaN  \n"
     ]
    }
   ],
   "source": [
    "# Create a 7-day Moving Average\n",
    "df['7_day_MA'] = df['Close'].rolling(window=7).mean()\n",
    "\n",
    "# Create a 30-day Moving Average\n",
    "df['30_day_MA'] = df['Close'].rolling(window=30).mean()\n",
    "\n",
    "# Calculate daily returns\n",
    "df['Daily_Return'] = df['Close'].pct_change()\n",
    "\n",
    "# Calculate rolling standard deviation (volatility) over 30 days\n",
    "df['Volatility'] = df['Daily_Return'].rolling(window=30).std()\n",
    "\n",
    "# Display the dataset with new features\n",
    "print(df.head())\n"
   ]
  },
  {
   "cell_type": "code",
   "execution_count": 10,
   "id": "9588e829-b961-4fb2-a657-cca1939b7d20",
   "metadata": {},
   "outputs": [],
   "source": [
    "df.to_csv(\"cleaned_nvda_data.csv\", index=False)\n"
   ]
  },
  {
   "cell_type": "code",
   "execution_count": 12,
   "id": "2b729c28-da4f-48df-b848-33670834807f",
   "metadata": {},
   "outputs": [],
   "source": [
    "df.to_csv(r\"C:\\Users\\user\\Desktop\\NVIDIA Stock predictive analysis\\cleaned_nvda_data.csv\", index=False)\n"
   ]
  },
  {
   "cell_type": "code",
   "execution_count": null,
   "id": "10ffcc80-9342-44cd-98f7-00e71f9fdcf7",
   "metadata": {},
   "outputs": [],
   "source": []
  }
 ],
 "metadata": {
  "kernelspec": {
   "display_name": "Python 3 (ipykernel)",
   "language": "python",
   "name": "python3"
  },
  "language_info": {
   "codemirror_mode": {
    "name": "ipython",
    "version": 3
   },
   "file_extension": ".py",
   "mimetype": "text/x-python",
   "name": "python",
   "nbconvert_exporter": "python",
   "pygments_lexer": "ipython3",
   "version": "3.12.3"
  }
 },
 "nbformat": 4,
 "nbformat_minor": 5
}
